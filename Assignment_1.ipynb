{
 "cells": [
  {
   "cell_type": "code",
   "execution_count": 1,
   "metadata": {},
   "outputs": [
    {
     "name": "stdout",
     "output_type": "stream",
     "text": [
      "[4, 5, 6, 'syedsahil', 4]\n"
     ]
    }
   ],
   "source": [
    "#By @CSE-18-01 _Syed_Sahil\n",
    "L = [4,5,6,33,4]\n",
    "L[3] ='syedsahil'\n",
    "print(L)"
   ]
  },
  {
   "cell_type": "code",
   "execution_count": 2,
   "metadata": {},
   "outputs": [
    {
     "name": "stdout",
     "output_type": "stream",
     "text": [
      "[22, 3, ['CSE', 'IUST', 01], 67, 3]  |  22  |  ['CSE', 'IUST', 01]  |  IUST\n"
     ]
    }
   ],
   "source": [
    "#nested list\n",
    "L2 = [22,3,['CSE','IUST',01],67,3]\n",
    "print(L2,' | ',L2[0],' | ',L2[2],' | ',L2[2][1])"
   ]
  },
  {
   "cell_type": "code",
   "execution_count": 4,
   "metadata": {},
   "outputs": [
    {
     "name": "stdout",
     "output_type": "stream",
     "text": [
      "{'A': 1, 'B': 30, 'C': 3}\n"
     ]
    }
   ],
   "source": [
    "D = {'A':1,'B':2,'C':3}\n",
    "D['B'] = 30\n",
    "print(D)"
   ]
  },
  {
   "cell_type": "code",
   "execution_count": 5,
   "metadata": {},
   "outputs": [
    {
     "name": "stdout",
     "output_type": "stream",
     "text": [
      "1\n",
      "{1: 'a', 2: 'b'}\n",
      "b\n"
     ]
    }
   ],
   "source": [
    "#nested dictionary\n",
    "D2 = {'A':1,'B':2,'C':3,'D':{1:'a',2:'b'}}\n",
    "print(D2['A'])\n",
    "print(D2['D'])\n",
    "print(D2['D'][2])"
   ]
  },
  {
   "cell_type": "code",
   "execution_count": 7,
   "metadata": {},
   "outputs": [
    {
     "name": "stdout",
     "output_type": "stream",
     "text": [
      "(3, 4, 'cse', 6)  |  cse\n"
     ]
    }
   ],
   "source": [
    "Tuple = (3,4,'cse',6)\n",
    "# Tuple[2]= 10 ; Error\n",
    "print(Tuple,' | ',Tuple[2])"
   ]
  },
  {
   "cell_type": "code",
   "execution_count": 9,
   "metadata": {},
   "outputs": [
    {
     "name": "stdout",
     "output_type": "stream",
     "text": [
      "{1, 2, 3, 4, 5, 6, 7, 8}\n",
      "{1, 2, 3, 4, 5, 6, 7, 8, 'Python'}\n"
     ]
    }
   ],
   "source": [
    "#sets\n",
    "Set = {1,2,3,4,5,6,5,4,6,7,3,5,7,8}\n",
    "print(Set)\n",
    "Set.add('Python')\n",
    "print(Set)"
   ]
  },
  {
   "cell_type": "code",
   "execution_count": 13,
   "metadata": {},
   "outputs": [
    {
     "name": "stdout",
     "output_type": "stream",
     "text": [
      "Do you want to eat Pizza or Burger?Biryani\n",
      "The item you are looking for is not available at the moment.\n"
     ]
    }
   ],
   "source": [
    "choice = input(\"Do you want to eat Pizza or Burger?\")\n",
    "if choice == 'Burger':\n",
    "    print('You need to pay 150 Rupees.')\n",
    "elif choice == 'Pizza':\n",
    "    print('You need to pay 110 Rupees.')\n",
    "else:\n",
    "    print('The item you are looking for is not available at the moment.')"
   ]
  },
  {
   "cell_type": "code",
   "execution_count": 30,
   "metadata": {},
   "outputs": [
    {
     "name": "stdout",
     "output_type": "stream",
     "text": [
      "88\n",
      "-42\n",
      "0.35384615384615387\n",
      "23\n",
      "0\n",
      "1495\n",
      "8\n"
     ]
    }
   ],
   "source": [
    "#operations on two numbers\n",
    "num1 = 23\n",
    "num2 = 65\n",
    "print(num1+num2)\n",
    "print(num1-num2)\n",
    "print(num1/num2)\n",
    "print(num1%num2)\n",
    "print(num1//num2)\n",
    "print(num1*num2)\n",
    "print(2**3)"
   ]
  },
  {
   "cell_type": "code",
   "execution_count": 29,
   "metadata": {},
   "outputs": [
    {
     "name": "stdout",
     "output_type": "stream",
     "text": [
      "0\n",
      "100\n",
      "200\n",
      "300\n",
      "400\n",
      "500\n",
      "600\n",
      "700\n",
      "800\n",
      "900\n"
     ]
    }
   ],
   "source": [
    "#loops\n",
    "for i in range(0,1000,100):\n",
    "    print(i)"
   ]
  }
 ],
 "metadata": {
  "kernelspec": {
   "display_name": "Python 3",
   "language": "python",
   "name": "python3"
  },
  "language_info": {
   "codemirror_mode": {
    "name": "ipython",
    "version": 3
   },
   "file_extension": ".py",
   "mimetype": "text/x-python",
   "name": "python",
   "nbconvert_exporter": "python",
   "pygments_lexer": "ipython3",
   "version": "3.8.5"
  }
 },
 "nbformat": 4,
 "nbformat_minor": 4
}
